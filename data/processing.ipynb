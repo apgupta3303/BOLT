{
 "cells": [
  {
   "cell_type": "code",
   "execution_count": 1,
   "metadata": {},
   "outputs": [],
   "source": [
    "import pandas as pd"
   ]
  },
  {
   "cell_type": "code",
   "execution_count": 6,
   "metadata": {},
   "outputs": [],
   "source": [
    "csv_path = \"ash/ash.csv\""
   ]
  },
  {
   "cell_type": "code",
   "execution_count": 7,
   "metadata": {},
   "outputs": [],
   "source": [
    "df = pd.read_csv(csv_path)\n",
    "df_therapist = df[df[\"role\"] == \"therapist\"]\n",
    "df_client = df[df[\"role\"] == \"client\"]\n"
   ]
  },
  {
   "cell_type": "code",
   "execution_count": 8,
   "metadata": {},
   "outputs": [],
   "source": [
    "df_therapist.to_csv(\"ash/ash_therapist.csv\")"
   ]
  },
  {
   "cell_type": "code",
   "execution_count": 9,
   "metadata": {},
   "outputs": [],
   "source": [
    "df_client.to_csv(\"ash/ash_client.csv\")"
   ]
  },
  {
   "cell_type": "code",
   "execution_count": 11,
   "metadata": {},
   "outputs": [
    {
     "name": "stdout",
     "output_type": "stream",
     "text": [
      "ash20.csv\n",
      "ash21.csv\n",
      "ash163.csv\n",
      "ash204.csv\n",
      "ash27.csv\n",
      "ash19.csv\n",
      "ash206.csv\n",
      "ash18.csv\n",
      "ash97.csv\n",
      "ash75.csv\n",
      "ash48.csv\n",
      "ash67.csv\n",
      "ash15.csv\n",
      "ash14.csv\n",
      "ash16.csv\n",
      "ash17.csv\n",
      "ash13.csv\n",
      "ash12.csv\n",
      "ash10.csv\n",
      "ash11.csv\n",
      "                                             Utterance       Role  Turn  \\\n",
      "0    Sure thing. What direction would you like to t...  therapist     1   \n",
      "1    I think I just want to check in and make sure ...     client     2   \n",
      "2    That's an amazing thing to prioritize, especia...  therapist     3   \n",
      "3    Things have been going pretty well! I've been ...     client     4   \n",
      "4                   What does that kindness look like?  therapist     5   \n",
      "..                                                 ...        ...   ...   \n",
      "638  Okay, so you know what you bring to the table,...  therapist    33   \n",
      "639                               that I am a nice guy     client    34   \n",
      "640  Well, worst case scenario, that's not a bad th...  therapist    35   \n",
      "641                                     yeah thank you     client    36   \n",
      "642  And best case, they feel what Maya feels. That...  therapist    37   \n",
      "\n",
      "     ConvID  \n",
      "0        20  \n",
      "1        20  \n",
      "2        20  \n",
      "3        20  \n",
      "4        20  \n",
      "..      ...  \n",
      "638      11  \n",
      "639      11  \n",
      "640      11  \n",
      "641      11  \n",
      "642      11  \n",
      "\n",
      "[643 rows x 4 columns]\n"
     ]
    }
   ],
   "source": [
    "import os\n",
    "import pandas as pd\n",
    "\n",
    "folder_path = \"ash/conversations\"\n",
    "\n",
    "dataframes = []\n",
    "\n",
    "for file_name in os.listdir(folder_path):\n",
    "    if file_name.endswith(\".csv\"): \n",
    "        print(file_name)\n",
    "        file_path = os.path.join(folder_path, file_name)\n",
    "        df = pd.read_csv(file_path)\n",
    "        dataframes.append(df)\n",
    "\n",
    "final_dataframe = pd.concat(dataframes, ignore_index=True)\n",
    "\n",
    "print(final_dataframe)\n",
    "\n",
    "final_dataframe.to_csv(\"combined_data.csv\", index=False)\n"
   ]
  }
 ],
 "metadata": {
  "kernelspec": {
   "display_name": "base",
   "language": "python",
   "name": "python3"
  },
  "language_info": {
   "codemirror_mode": {
    "name": "ipython",
    "version": 3
   },
   "file_extension": ".py",
   "mimetype": "text/x-python",
   "name": "python",
   "nbconvert_exporter": "python",
   "pygments_lexer": "ipython3",
   "version": "3.8.20"
  },
  "orig_nbformat": 4,
  "vscode": {
   "interpreter": {
    "hash": "04506daec05ef9d53e1e68fe499b91c472d75d1bd16351d55207f17720882eb8"
   }
  }
 },
 "nbformat": 4,
 "nbformat_minor": 2
}
